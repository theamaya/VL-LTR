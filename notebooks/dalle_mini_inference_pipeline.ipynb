{
  "cells": [
    {
      "cell_type": "markdown",
      "metadata": {
        "colab_type": "text",
        "id": "view-in-github"
      },
      "source": [
        "<a href=\"https://colab.research.google.com/github/theamaya/VL-LTR/blob/master/notebooks/dalle_mini_inference_pipeline.ipynb\" target=\"_parent\"><img src=\"https://colab.research.google.com/assets/colab-badge.svg\" alt=\"Open In Colab\"/></a>"
      ]
    },
    {
      "cell_type": "markdown",
      "metadata": {
        "id": "118UKH5bWCGa"
      },
      "source": [
        "# DALL·E mini - Inference pipeline\n",
        "\n",
        "*Generate images from a text prompt*\n",
        "\n",
        "<img src=\"https://github.com/borisdayma/dalle-mini/blob/main/img/logo.png?raw=true\" width=\"200\">\n",
        "\n",
        "This notebook illustrates [DALL·E mini](https://github.com/borisdayma/dalle-mini) inference pipeline.\n",
        "\n",
        "Just want to play? Use directly [the app](https://www.craiyon.com/).\n",
        "\n",
        "For more understanding of the model, refer to [the report](https://wandb.ai/dalle-mini/dalle-mini/reports/DALL-E-mini--Vmlldzo4NjIxODA)."
      ]
    },
    {
      "cell_type": "markdown",
      "metadata": {
        "id": "dS8LbaonYm3a"
      },
      "source": [
        "## 🛠️ Installation and set-up"
      ]
    },
    {
      "cell_type": "code",
      "execution_count": 1,
      "metadata": {
        "id": "uzjAM2GBYpZX"
      },
      "outputs": [],
      "source": [
        "# Install required libraries\n",
        "!pip install -q dalle-mini\n",
        "!pip install -q git+https://github.com/patil-suraj/vqgan-jax.git"
      ]
    },
    {
      "cell_type": "markdown",
      "metadata": {
        "id": "ozHzTkyv8cqU"
      },
      "source": [
        "We load required models:\n",
        "* DALL·E mini for text to encoded images\n",
        "* VQGAN for decoding images\n",
        "* CLIP for scoring predictions"
      ]
    },
    {
      "cell_type": "code",
      "execution_count": 2,
      "metadata": {
        "id": "K6CxW2o42f-w"
      },
      "outputs": [],
      "source": [
        "# Model references\n",
        "\n",
        "# dalle-mega\n",
        "DALLE_MODEL = \"dalle-mini/dalle-mini/mega-1-fp16:latest\"  # can be wandb artifact or 🤗 Hub or local folder or google bucket\n",
        "DALLE_COMMIT_ID = None\n",
        "\n",
        "# if the notebook crashes too often you can use dalle-mini instead by uncommenting below line\n",
        "# DALLE_MODEL = \"dalle-mini/dalle-mini/mini-1:v0\"\n",
        "\n",
        "# VQGAN model\n",
        "VQGAN_REPO = \"dalle-mini/vqgan_imagenet_f16_16384\"\n",
        "VQGAN_COMMIT_ID = \"e93a26e7707683d349bf5d5c41c5b0ef69b677a9\""
      ]
    },
    {
      "cell_type": "code",
      "execution_count": 7,
      "metadata": {
        "id": "Yv-aR3t4Oe5v"
      },
      "outputs": [
        {
          "ename": "AttributeError",
          "evalue": "partially initialized module 'jax' has no attribute '_src' (most likely due to a circular import)",
          "output_type": "error",
          "traceback": [
            "\u001b[0;31m---------------------------------------------------------------------------\u001b[0m",
            "\u001b[0;31mAttributeError\u001b[0m                            Traceback (most recent call last)",
            "\u001b[1;32m/nfs/users/ext_amaya.dharmasiri/repos/VL-LTR/notebooks/dalle_mini_inference_pipeline.ipynb Cell 7\u001b[0m in \u001b[0;36m<cell line: 1>\u001b[0;34m()\u001b[0m\n\u001b[0;32m----> <a href='vscode-notebook-cell://ssh-remote%2B172.31.109.70/nfs/users/ext_amaya.dharmasiri/repos/VL-LTR/notebooks/dalle_mini_inference_pipeline.ipynb#ch0000006vscode-remote?line=0'>1</a>\u001b[0m \u001b[39mimport\u001b[39;00m \u001b[39mjax\u001b[39;00m\n\u001b[1;32m      <a href='vscode-notebook-cell://ssh-remote%2B172.31.109.70/nfs/users/ext_amaya.dharmasiri/repos/VL-LTR/notebooks/dalle_mini_inference_pipeline.ipynb#ch0000006vscode-remote?line=1'>2</a>\u001b[0m \u001b[39mimport\u001b[39;00m \u001b[39mjax\u001b[39;00m\u001b[39m.\u001b[39;00m\u001b[39mnumpy\u001b[39;00m \u001b[39mas\u001b[39;00m \u001b[39mjnp\u001b[39;00m\n\u001b[1;32m      <a href='vscode-notebook-cell://ssh-remote%2B172.31.109.70/nfs/users/ext_amaya.dharmasiri/repos/VL-LTR/notebooks/dalle_mini_inference_pipeline.ipynb#ch0000006vscode-remote?line=3'>4</a>\u001b[0m \u001b[39m# check how many devices are available\u001b[39;00m\n",
            "File \u001b[0;32m~/miniconda3/envs/dallemini/lib/python3.10/site-packages/jax/__init__.py:60\u001b[0m, in \u001b[0;36m<module>\u001b[0;34m\u001b[0m\n\u001b[1;32m     38\u001b[0m \u001b[39mfrom\u001b[39;00m \u001b[39mjax\u001b[39;00m\u001b[39m.\u001b[39;00m\u001b[39m_src\u001b[39;00m\u001b[39m.\u001b[39;00m\u001b[39mconfig\u001b[39;00m \u001b[39mimport\u001b[39;00m (\n\u001b[1;32m     39\u001b[0m   config \u001b[39mas\u001b[39;00m config,\n\u001b[1;32m     40\u001b[0m   enable_checks \u001b[39mas\u001b[39;00m enable_checks,\n\u001b[0;32m   (...)\u001b[0m\n\u001b[1;32m     57\u001b[0m   transfer_guard_device_to_host \u001b[39mas\u001b[39;00m transfer_guard_device_to_host,\n\u001b[1;32m     58\u001b[0m )\n\u001b[1;32m     59\u001b[0m \u001b[39mfrom\u001b[39;00m \u001b[39m.\u001b[39;00m\u001b[39mcore\u001b[39;00m \u001b[39mimport\u001b[39;00m eval_context \u001b[39mas\u001b[39;00m ensure_compile_time_eval\n\u001b[0;32m---> 60\u001b[0m \u001b[39mfrom\u001b[39;00m \u001b[39mjax\u001b[39;00m\u001b[39m.\u001b[39;00m\u001b[39m_src\u001b[39;00m\u001b[39m.\u001b[39;00m\u001b[39mapi\u001b[39;00m \u001b[39mimport\u001b[39;00m (\n\u001b[1;32m     61\u001b[0m   ad,  \u001b[39m# TODO(phawkins): update users to avoid this.\u001b[39;00m\n\u001b[1;32m     62\u001b[0m   effects_barrier,\n\u001b[1;32m     63\u001b[0m   block_until_ready,\n\u001b[1;32m     64\u001b[0m   checkpoint \u001b[39mas\u001b[39;00m checkpoint,\n\u001b[1;32m     65\u001b[0m   checkpoint_policies \u001b[39mas\u001b[39;00m checkpoint_policies,\n\u001b[1;32m     66\u001b[0m   clear_backends \u001b[39mas\u001b[39;00m clear_backends,\n\u001b[1;32m     67\u001b[0m   closure_convert \u001b[39mas\u001b[39;00m closure_convert,\n\u001b[1;32m     68\u001b[0m   curry,  \u001b[39m# TODO(phawkins): update users to avoid this.\u001b[39;00m\n\u001b[1;32m     69\u001b[0m   custom_gradient \u001b[39mas\u001b[39;00m custom_gradient,\n\u001b[1;32m     70\u001b[0m   custom_jvp \u001b[39mas\u001b[39;00m custom_jvp,\n\u001b[1;32m     71\u001b[0m   custom_vjp \u001b[39mas\u001b[39;00m custom_vjp,\n\u001b[1;32m     72\u001b[0m   default_backend \u001b[39mas\u001b[39;00m default_backend,\n\u001b[1;32m     73\u001b[0m   device_count \u001b[39mas\u001b[39;00m device_count,\n\u001b[1;32m     74\u001b[0m   device_get \u001b[39mas\u001b[39;00m device_get,\n\u001b[1;32m     75\u001b[0m   device_put \u001b[39mas\u001b[39;00m device_put,\n\u001b[1;32m     76\u001b[0m   device_put_sharded \u001b[39mas\u001b[39;00m device_put_sharded,\n\u001b[1;32m     77\u001b[0m   device_put_replicated \u001b[39mas\u001b[39;00m device_put_replicated,\n\u001b[1;32m     78\u001b[0m   devices \u001b[39mas\u001b[39;00m devices,\n\u001b[1;32m     79\u001b[0m   disable_jit \u001b[39mas\u001b[39;00m disable_jit,\n\u001b[1;32m     80\u001b[0m   eval_shape \u001b[39mas\u001b[39;00m eval_shape,\n\u001b[1;32m     81\u001b[0m   flatten_fun_nokwargs,  \u001b[39m# TODO(phawkins): update users to avoid this.\u001b[39;00m\n\u001b[1;32m     82\u001b[0m   float0 \u001b[39mas\u001b[39;00m float0,\n\u001b[1;32m     83\u001b[0m   grad \u001b[39mas\u001b[39;00m grad,\n\u001b[1;32m     84\u001b[0m   hessian \u001b[39mas\u001b[39;00m hessian,\n\u001b[1;32m     85\u001b[0m   host_count \u001b[39mas\u001b[39;00m host_count,\n\u001b[1;32m     86\u001b[0m   host_id \u001b[39mas\u001b[39;00m host_id,\n\u001b[1;32m     87\u001b[0m   host_ids \u001b[39mas\u001b[39;00m host_ids,\n\u001b[1;32m     88\u001b[0m   jacobian \u001b[39mas\u001b[39;00m jacobian,\n\u001b[1;32m     89\u001b[0m   jacfwd \u001b[39mas\u001b[39;00m jacfwd,\n\u001b[1;32m     90\u001b[0m   jacrev \u001b[39mas\u001b[39;00m jacrev,\n\u001b[1;32m     91\u001b[0m   jit \u001b[39mas\u001b[39;00m jit,\n\u001b[1;32m     92\u001b[0m   jvp \u001b[39mas\u001b[39;00m jvp,\n\u001b[1;32m     93\u001b[0m   local_device_count \u001b[39mas\u001b[39;00m local_device_count,\n\u001b[1;32m     94\u001b[0m   local_devices \u001b[39mas\u001b[39;00m local_devices,\n\u001b[1;32m     95\u001b[0m   linearize \u001b[39mas\u001b[39;00m linearize,\n\u001b[1;32m     96\u001b[0m   linear_transpose \u001b[39mas\u001b[39;00m linear_transpose,\n\u001b[1;32m     97\u001b[0m   make_jaxpr \u001b[39mas\u001b[39;00m make_jaxpr,\n\u001b[1;32m     98\u001b[0m   mask \u001b[39mas\u001b[39;00m mask,\n\u001b[1;32m     99\u001b[0m   named_call \u001b[39mas\u001b[39;00m named_call,\n\u001b[1;32m    100\u001b[0m   named_scope \u001b[39mas\u001b[39;00m named_scope,\n\u001b[1;32m    101\u001b[0m   pmap \u001b[39mas\u001b[39;00m pmap,\n\u001b[1;32m    102\u001b[0m   process_count \u001b[39mas\u001b[39;00m process_count,\n\u001b[1;32m    103\u001b[0m   process_index \u001b[39mas\u001b[39;00m process_index,\n\u001b[1;32m    104\u001b[0m   pxla,  \u001b[39m# TODO(phawkins): update users to avoid this.\u001b[39;00m\n\u001b[1;32m    105\u001b[0m   remat \u001b[39mas\u001b[39;00m remat,\n\u001b[1;32m    106\u001b[0m   shapecheck \u001b[39mas\u001b[39;00m shapecheck,\n\u001b[1;32m    107\u001b[0m   ShapedArray \u001b[39mas\u001b[39;00m ShapedArray,\n\u001b[1;32m    108\u001b[0m   ShapeDtypeStruct \u001b[39mas\u001b[39;00m ShapeDtypeStruct,\n\u001b[1;32m    109\u001b[0m   value_and_grad \u001b[39mas\u001b[39;00m value_and_grad,\n\u001b[1;32m    110\u001b[0m   vjp \u001b[39mas\u001b[39;00m vjp,\n\u001b[1;32m    111\u001b[0m   vmap \u001b[39mas\u001b[39;00m vmap,\n\u001b[1;32m    112\u001b[0m   xla,  \u001b[39m# TODO(phawkins): update users to avoid this.\u001b[39;00m\n\u001b[1;32m    113\u001b[0m   xla_computation \u001b[39mas\u001b[39;00m xla_computation,\n\u001b[1;32m    114\u001b[0m )\n\u001b[1;32m    115\u001b[0m \u001b[39mfrom\u001b[39;00m \u001b[39mjax\u001b[39;00m\u001b[39m.\u001b[39;00m\u001b[39mexperimental\u001b[39;00m\u001b[39m.\u001b[39;00m\u001b[39mmaps\u001b[39;00m \u001b[39mimport\u001b[39;00m soft_pmap \u001b[39mas\u001b[39;00m soft_pmap\n\u001b[1;32m    116\u001b[0m \u001b[39mfrom\u001b[39;00m \u001b[39mjax\u001b[39;00m\u001b[39m.\u001b[39;00m\u001b[39mversion\u001b[39;00m \u001b[39mimport\u001b[39;00m __version__ \u001b[39mas\u001b[39;00m __version__\n",
            "File \u001b[0;32m~/miniconda3/envs/dallemini/lib/python3.10/site-packages/jax/_src/api.py:57\u001b[0m, in \u001b[0;36m<module>\u001b[0;34m\u001b[0m\n\u001b[1;32m     51\u001b[0m \u001b[39mfrom\u001b[39;00m \u001b[39mjax\u001b[39;00m\u001b[39m.\u001b[39;00m\u001b[39m_src\u001b[39;00m \u001b[39mimport\u001b[39;00m traceback_util\n\u001b[1;32m     52\u001b[0m \u001b[39mfrom\u001b[39;00m \u001b[39mjax\u001b[39;00m\u001b[39m.\u001b[39;00m\u001b[39m_src\u001b[39;00m\u001b[39m.\u001b[39;00m\u001b[39mapi_util\u001b[39;00m \u001b[39mimport\u001b[39;00m (\n\u001b[1;32m     53\u001b[0m     flatten_fun, apply_flat_fun, flatten_fun_nokwargs, flatten_fun_nokwargs2,\n\u001b[1;32m     54\u001b[0m     argnums_partial, argnums_partial_except, flatten_axes, donation_vector,\n\u001b[1;32m     55\u001b[0m     rebase_donate_argnums, _ensure_index, _ensure_index_tuple,\n\u001b[1;32m     56\u001b[0m     shaped_abstractify, _ensure_str_tuple, argnames_partial_except, validate_argnames, validate_argnums)\n\u001b[0;32m---> 57\u001b[0m \u001b[39mfrom\u001b[39;00m \u001b[39mjax\u001b[39;00m\u001b[39m.\u001b[39;00m\u001b[39m_src\u001b[39;00m\u001b[39m.\u001b[39;00m\u001b[39mlax\u001b[39;00m \u001b[39mimport\u001b[39;00m lax \u001b[39mas\u001b[39;00m lax_internal\n\u001b[1;32m     58\u001b[0m \u001b[39mfrom\u001b[39;00m \u001b[39mjax\u001b[39;00m\u001b[39m.\u001b[39;00m\u001b[39m_src\u001b[39;00m\u001b[39m.\u001b[39;00m\u001b[39mlib\u001b[39;00m \u001b[39mimport\u001b[39;00m jax_jit\n\u001b[1;32m     59\u001b[0m \u001b[39mfrom\u001b[39;00m \u001b[39mjax\u001b[39;00m\u001b[39m.\u001b[39;00m\u001b[39m_src\u001b[39;00m\u001b[39m.\u001b[39;00m\u001b[39mlib\u001b[39;00m \u001b[39mimport\u001b[39;00m xla_bridge \u001b[39mas\u001b[39;00m xb\n",
            "File \u001b[0;32m~/miniconda3/envs/dallemini/lib/python3.10/site-packages/jax/_src/lax/lax.py:1713\u001b[0m, in \u001b[0;36m<module>\u001b[0;34m\u001b[0m\n\u001b[1;32m   1711\u001b[0m sin_p \u001b[39m=\u001b[39m standard_unop(_float \u001b[39m|\u001b[39m _complex, \u001b[39m'\u001b[39m\u001b[39msin\u001b[39m\u001b[39m'\u001b[39m)\n\u001b[1;32m   1712\u001b[0m ad\u001b[39m.\u001b[39mdefjvp(sin_p, \u001b[39mlambda\u001b[39;00m g, x: mul(g, cos(x)))\n\u001b[0;32m-> 1713\u001b[0m \u001b[39mif\u001b[39;00m jax\u001b[39m.\u001b[39;49m_src\u001b[39m.\u001b[39mlib\u001b[39m.\u001b[39mmlir_api_version \u001b[39m<\u001b[39m \u001b[39m27\u001b[39m:\n\u001b[1;32m   1714\u001b[0m   mlir\u001b[39m.\u001b[39mregister_lowering(sin_p, partial(_nary_lower_mhlo, mhlo\u001b[39m.\u001b[39mSinOp))\n\u001b[1;32m   1715\u001b[0m \u001b[39melse\u001b[39;00m:\n",
            "\u001b[0;31mAttributeError\u001b[0m: partially initialized module 'jax' has no attribute '_src' (most likely due to a circular import)"
          ]
        }
      ],
      "source": [
        "import jax\n",
        "import jax.numpy as jnp\n",
        "\n",
        "# check how many devices are available\n",
        "jax.local_device_count()"
      ]
    },
    {
      "cell_type": "code",
      "execution_count": null,
      "metadata": {
        "id": "92zYmvsQ38vL"
      },
      "outputs": [],
      "source": [
        "# Load models & tokenizer\n",
        "from dalle_mini import DalleBart, DalleBartProcessor\n",
        "from vqgan_jax.modeling_flax_vqgan import VQModel\n",
        "from transformers import CLIPProcessor, FlaxCLIPModel\n",
        "\n",
        "# Load dalle-mini\n",
        "model, params = DalleBart.from_pretrained(\n",
        "    DALLE_MODEL, revision=DALLE_COMMIT_ID, dtype=jnp.float16, _do_init=False\n",
        ")\n",
        "\n",
        "# Load VQGAN\n",
        "vqgan, vqgan_params = VQModel.from_pretrained(\n",
        "    VQGAN_REPO, revision=VQGAN_COMMIT_ID, _do_init=False\n",
        ")"
      ]
    },
    {
      "cell_type": "markdown",
      "metadata": {
        "id": "o_vH2X1tDtzA"
      },
      "source": [
        "Model parameters are replicated on each device for faster inference."
      ]
    },
    {
      "cell_type": "code",
      "execution_count": null,
      "metadata": {
        "id": "wtvLoM48EeVw"
      },
      "outputs": [],
      "source": [
        "from flax.jax_utils import replicate\n",
        "\n",
        "params = replicate(params)\n",
        "vqgan_params = replicate(vqgan_params)"
      ]
    },
    {
      "cell_type": "markdown",
      "metadata": {
        "id": "0A9AHQIgZ_qw"
      },
      "source": [
        "Model functions are compiled and parallelized to take advantage of multiple devices."
      ]
    },
    {
      "cell_type": "code",
      "execution_count": null,
      "metadata": {
        "id": "sOtoOmYsSYPz"
      },
      "outputs": [],
      "source": [
        "from functools import partial\n",
        "\n",
        "# model inference\n",
        "@partial(jax.pmap, axis_name=\"batch\", static_broadcasted_argnums=(3, 4, 5, 6))\n",
        "def p_generate(\n",
        "    tokenized_prompt, key, params, top_k, top_p, temperature, condition_scale\n",
        "):\n",
        "    return model.generate(\n",
        "        **tokenized_prompt,\n",
        "        prng_key=key,\n",
        "        params=params,\n",
        "        top_k=top_k,\n",
        "        top_p=top_p,\n",
        "        temperature=temperature,\n",
        "        condition_scale=condition_scale,\n",
        "    )\n",
        "\n",
        "\n",
        "# decode image\n",
        "@partial(jax.pmap, axis_name=\"batch\")\n",
        "def p_decode(indices, params):\n",
        "    return vqgan.decode_code(indices, params=params)"
      ]
    },
    {
      "cell_type": "markdown",
      "metadata": {
        "id": "HmVN6IBwapBA"
      },
      "source": [
        "Keys are passed to the model on each device to generate unique inference per device."
      ]
    },
    {
      "cell_type": "code",
      "execution_count": null,
      "metadata": {
        "id": "4CTXmlUkThhX"
      },
      "outputs": [],
      "source": [
        "import random\n",
        "\n",
        "# create a random key\n",
        "seed = random.randint(0, 2**32 - 1)\n",
        "key = jax.random.PRNGKey(seed)"
      ]
    },
    {
      "cell_type": "markdown",
      "metadata": {
        "id": "BrnVyCo81pij"
      },
      "source": [
        "## 🖍 Text Prompt"
      ]
    },
    {
      "cell_type": "markdown",
      "metadata": {
        "id": "rsmj0Aj5OQox"
      },
      "source": [
        "Our model requires processing prompts."
      ]
    },
    {
      "cell_type": "code",
      "execution_count": null,
      "metadata": {
        "id": "YjjhUychOVxm"
      },
      "outputs": [],
      "source": [
        "from dalle_mini import DalleBartProcessor\n",
        "\n",
        "processor = DalleBartProcessor.from_pretrained(DALLE_MODEL, revision=DALLE_COMMIT_ID)"
      ]
    },
    {
      "cell_type": "markdown",
      "metadata": {
        "id": "BQ7fymSPyvF_"
      },
      "source": [
        "Let's define some text prompts."
      ]
    },
    {
      "cell_type": "code",
      "execution_count": null,
      "metadata": {
        "id": "x_0vI9ge1oKr"
      },
      "outputs": [],
      "source": [
        "prompts = [\n",
        "    \"sunset over a lake in the mountains\",\n",
        "    \"the Eiffel tower landing on the moon\",\n",
        "]"
      ]
    },
    {
      "cell_type": "markdown",
      "metadata": {
        "id": "XlZUG3SCLnGE"
      },
      "source": [
        "Note: we could use the same prompt multiple times for faster inference."
      ]
    },
    {
      "cell_type": "code",
      "execution_count": null,
      "metadata": {
        "id": "VKjEZGjtO49k"
      },
      "outputs": [],
      "source": [
        "tokenized_prompts = processor(prompts)"
      ]
    },
    {
      "cell_type": "markdown",
      "metadata": {
        "id": "-CEJBnuJOe5z"
      },
      "source": [
        "Finally we replicate the prompts onto each device."
      ]
    },
    {
      "cell_type": "code",
      "execution_count": null,
      "metadata": {
        "id": "lQePgju5Oe5z"
      },
      "outputs": [],
      "source": [
        "tokenized_prompt = replicate(tokenized_prompts)"
      ]
    },
    {
      "cell_type": "markdown",
      "metadata": {
        "id": "phQ9bhjRkgAZ"
      },
      "source": [
        "## 🎨 Generate images\n",
        "\n",
        "We generate images using dalle-mini model and decode them with the VQGAN."
      ]
    },
    {
      "cell_type": "code",
      "execution_count": null,
      "metadata": {
        "id": "d0wVkXpKqnHA"
      },
      "outputs": [],
      "source": [
        "# number of predictions per prompt\n",
        "n_predictions = 8\n",
        "\n",
        "# We can customize generation parameters (see https://huggingface.co/blog/how-to-generate)\n",
        "gen_top_k = None\n",
        "gen_top_p = None\n",
        "temperature = None\n",
        "cond_scale = 10.0"
      ]
    },
    {
      "cell_type": "code",
      "execution_count": null,
      "metadata": {
        "id": "SDjEx9JxR3v8"
      },
      "outputs": [],
      "source": [
        "from flax.training.common_utils import shard_prng_key\n",
        "import numpy as np\n",
        "from PIL import Image\n",
        "from tqdm.notebook import trange\n",
        "\n",
        "print(f\"Prompts: {prompts}\\n\")\n",
        "# generate images\n",
        "images = []\n",
        "for i in trange(max(n_predictions // jax.device_count(), 1)):\n",
        "    # get a new key\n",
        "    key, subkey = jax.random.split(key)\n",
        "    # generate images\n",
        "    encoded_images = p_generate(\n",
        "        tokenized_prompt,\n",
        "        shard_prng_key(subkey),\n",
        "        params,\n",
        "        gen_top_k,\n",
        "        gen_top_p,\n",
        "        temperature,\n",
        "        cond_scale,\n",
        "    )\n",
        "    # remove BOS\n",
        "    encoded_images = encoded_images.sequences[..., 1:]\n",
        "    # decode images\n",
        "    decoded_images = p_decode(encoded_images, vqgan_params)\n",
        "    decoded_images = decoded_images.clip(0.0, 1.0).reshape((-1, 256, 256, 3))\n",
        "    for decoded_img in decoded_images:\n",
        "        img = Image.fromarray(np.asarray(decoded_img * 255, dtype=np.uint8))\n",
        "        images.append(img)\n",
        "        display(img)\n",
        "        print()"
      ]
    },
    {
      "cell_type": "markdown",
      "metadata": {
        "id": "tw02wG9zGmyB"
      },
      "source": [
        "## 🏅 Optional: Rank images by CLIP score\n",
        "\n",
        "We can rank images according to CLIP.\n",
        "\n",
        "**Note: your session may crash if you don't have a subscription to Colab Pro.**"
      ]
    },
    {
      "cell_type": "code",
      "execution_count": null,
      "metadata": {
        "id": "RGjlIW_f6GA0"
      },
      "outputs": [],
      "source": [
        "# CLIP model\n",
        "CLIP_REPO = \"openai/clip-vit-base-patch32\"\n",
        "CLIP_COMMIT_ID = None\n",
        "\n",
        "# Load CLIP\n",
        "clip, clip_params = FlaxCLIPModel.from_pretrained(\n",
        "    CLIP_REPO, revision=CLIP_COMMIT_ID, dtype=jnp.float16, _do_init=False\n",
        ")\n",
        "clip_processor = CLIPProcessor.from_pretrained(CLIP_REPO, revision=CLIP_COMMIT_ID)\n",
        "clip_params = replicate(clip_params)\n",
        "\n",
        "# score images\n",
        "@partial(jax.pmap, axis_name=\"batch\")\n",
        "def p_clip(inputs, params):\n",
        "    logits = clip(params=params, **inputs).logits_per_image\n",
        "    return logits"
      ]
    },
    {
      "cell_type": "code",
      "execution_count": null,
      "metadata": {
        "id": "FoLXpjCmGpju"
      },
      "outputs": [],
      "source": [
        "from flax.training.common_utils import shard\n",
        "\n",
        "# get clip scores\n",
        "clip_inputs = clip_processor(\n",
        "    text=prompts * jax.device_count(),\n",
        "    images=images,\n",
        "    return_tensors=\"np\",\n",
        "    padding=\"max_length\",\n",
        "    max_length=77,\n",
        "    truncation=True,\n",
        ").data\n",
        "logits = p_clip(shard(clip_inputs), clip_params)\n",
        "\n",
        "# organize scores per prompt\n",
        "p = len(prompts)\n",
        "logits = np.asarray([logits[:, i::p, i] for i in range(p)]).squeeze()"
      ]
    },
    {
      "cell_type": "markdown",
      "metadata": {
        "id": "4AAWRm70LgED"
      },
      "source": [
        "Let's now display images ranked by CLIP score."
      ]
    },
    {
      "cell_type": "code",
      "execution_count": null,
      "metadata": {
        "id": "zsgxxubLLkIu"
      },
      "outputs": [],
      "source": [
        "for i, prompt in enumerate(prompts):\n",
        "    print(f\"Prompt: {prompt}\\n\")\n",
        "    for idx in logits[i].argsort()[::-1]:\n",
        "        display(images[idx * p + i])\n",
        "        print(f\"Score: {jnp.asarray(logits[i][idx], dtype=jnp.float32):.2f}\\n\")\n",
        "    print()"
      ]
    },
    {
      "cell_type": "markdown",
      "metadata": {
        "id": "oZT9i3jCjir0"
      },
      "source": [
        "## 🪄 Optional: Save your Generated Images as W&B Tables\n",
        "\n",
        "W&B Tables is an interactive 2D grid with support to rich media logging. Use this to save the generated images on W&B dashboard and share with the world."
      ]
    },
    {
      "cell_type": "code",
      "execution_count": null,
      "metadata": {
        "id": "-pSiv6Vwjkn0"
      },
      "outputs": [],
      "source": [
        "import wandb\n",
        "\n",
        "# Initialize a W&B run.\n",
        "project = 'dalle-mini-tables-colab'\n",
        "run = wandb.init(project=project)\n",
        "\n",
        "# Initialize an empty W&B Tables.\n",
        "columns = [\"captions\"] + [f\"image_{i+1}\" for i in range(n_predictions)]\n",
        "gen_table = wandb.Table(columns=columns)\n",
        "\n",
        "# Add data to the table.\n",
        "for i, prompt in enumerate(prompts):\n",
        "    # If CLIP scores exist, sort the Images\n",
        "    if logits is not None:\n",
        "        idxs = logits[i].argsort()[::-1]\n",
        "        tmp_imgs = images[i::len(prompts)]\n",
        "        tmp_imgs = [tmp_imgs[idx] for idx in idxs]\n",
        "    else:\n",
        "        tmp_imgs = images[i::len(prompts)]\n",
        "\n",
        "    # Add the data to the table.\n",
        "    gen_table.add_data(prompt, *[wandb.Image(img) for img in tmp_imgs])\n",
        "\n",
        "# Log the Table to W&B dashboard.\n",
        "wandb.log({\"Generated Images\": gen_table})\n",
        "\n",
        "# Close the W&B run.\n",
        "run.finish()"
      ]
    },
    {
      "cell_type": "markdown",
      "metadata": {
        "id": "Ck2ZnHwVjnRd"
      },
      "source": [
        "Click on the link above to check out your generated images."
      ]
    }
  ],
  "metadata": {
    "accelerator": "GPU",
    "colab": {
      "collapsed_sections": [],
      "include_colab_link": true,
      "machine_shape": "hm",
      "name": "DALL·E mini - Inference pipeline.ipynb",
      "provenance": []
    },
    "gpuClass": "standard",
    "kernelspec": {
      "display_name": "Python 3.10.4 ('dallemini')",
      "language": "python",
      "name": "python3"
    },
    "language_info": {
      "codemirror_mode": {
        "name": "ipython",
        "version": 3
      },
      "file_extension": ".py",
      "mimetype": "text/x-python",
      "name": "python",
      "nbconvert_exporter": "python",
      "pygments_lexer": "ipython3",
      "version": "3.10.4"
    },
    "vscode": {
      "interpreter": {
        "hash": "c2f590fa019693bbcb8b529fec49452c951695c8f9eae66ab539b2fa0fe5d025"
      }
    }
  },
  "nbformat": 4,
  "nbformat_minor": 0
}
